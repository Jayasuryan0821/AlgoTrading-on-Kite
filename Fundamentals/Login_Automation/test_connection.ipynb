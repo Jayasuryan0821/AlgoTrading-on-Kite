{
 "cells": [
  {
   "cell_type": "code",
   "execution_count": 1,
   "metadata": {},
   "outputs": [],
   "source": [
    "from kiteconnect import KiteConnect\n",
    "from selenium import webdriver\n",
    "from webdriver_manager.chrome import ChromeDriverManager\n",
    "from selenium.webdriver.chrome.service import Service\n",
    "from selenium.webdriver.chrome.options import Options\n",
    "from selenium.webdriver.common.by import By\n",
    "import os \n",
    "import time\n",
    "from time import sleep \n",
    "from pyotp import TOTP\n",
    "import pyotp\n",
    "import base64\n",
    "import binascii\n",
    "from datetime import datetime\n",
    "from urllib.parse import urlparse,parse_qs\n"
   ]
  },
  {
   "cell_type": "code",
   "execution_count": 2,
   "metadata": {},
   "outputs": [],
   "source": [
    "cwd = os.chdir(r'C:\\Users\\rsurs\\OneDrive\\Documents\\Zerodha\\api_keys')\n",
    "#print(f\"current dir: {os.getcwd()}\")\n"
   ]
  },
  {
   "cell_type": "code",
   "execution_count": 3,
   "metadata": {},
   "outputs": [],
   "source": [
    "token_path = 'credentials.txt'\n",
    "key_secret = open(token_path,'r').read().split()\n",
    "# for i,val in enumerate(key_secret):\n",
    "#     print(f\"{i} : {val}\")"
   ]
  },
  {
   "cell_type": "code",
   "execution_count": 4,
   "metadata": {},
   "outputs": [],
   "source": [
    "api_key = key_secret[0]\n",
    "api_secret = key_secret[1]\n",
    "user_name = key_secret[2]\n",
    "pwd = key_secret[3]\n",
    "totp_key = key_secret[-1]"
   ]
  },
  {
   "cell_type": "markdown",
   "metadata": {},
   "source": [
    "# Automate login and extract the request token"
   ]
  },
  {
   "cell_type": "code",
   "execution_count": 10,
   "metadata": {},
   "outputs": [],
   "source": [
    "kite = KiteConnect(api_key=api_key)\n",
    "service = Service(ChromeDriverManager().install())\n",
    "service.start()\n",
    "options = Options()\n",
    "#options.add_argument('--headless')\n",
    "options.to_capabilities()\n",
    "driver = webdriver.Remote(\n",
    "    command_executor=service.service_url,\n",
    "    options=options)\n",
    "driver.get(kite.login_url())\n",
    "driver.implicitly_wait(5)\n",
    "username = driver.find_element(By.XPATH, \"//input[@type='text']\")\n",
    "username.send_keys(user_name)\n",
    "# print(username)\n",
    "password = driver.find_element(By.XPATH, \"//input[@type='password']\")\n",
    "password.send_keys(pwd)\n",
    "# print(password)\n",
    "driver.find_element(By.XPATH, \"//button[@type='submit']\").click()\n",
    "sleep(1)\n",
    "totp = driver.find_element(By.XPATH,\"//input[@type='number']\")\n",
    "totp_token = TOTP(totp_key)\n",
    "#print(totp_token)\n",
    "token = totp_token.now()\n",
    "# print(token)\n",
    "totp.send_keys(token)\n",
    "driver.find_element(By.XPATH,\"//button[@type = 'submit']\").click()\n",
    "sleep(1)\n",
    "current_url = driver.current_url\n",
    "# print(current_url)\n",
    "parsed_url = urlparse(current_url)\n",
    "# print(parsed_url)\n",
    "query_params = parse_qs(parsed_url.query)\n",
    "# print(query_params) \n",
    "request_token = query_params.get('request_token',[None])[0]\n",
    "# print(request_token)\n",
    "with open('request_token.txt', 'w') as f:\n",
    "    f.write(request_token)\n",
    "# print(r)\n",
    "driver.quit()"
   ]
  },
  {
   "cell_type": "markdown",
   "metadata": {},
   "source": [
    "# Generating the access token\n",
    "Note the access token is valid until 6 am"
   ]
  },
  {
   "cell_type": "code",
   "execution_count": null,
   "metadata": {},
   "outputs": [],
   "source": [
    "request_token = open('request_token.txt','r').read()\n",
    "kite = KiteConnect(api_key=api_key)\n",
    "data = kite.generate_session(request_token=request_token,api_secret=api_secret)\n",
    "data\n",
    "with open('access_token.txt','w') as f:\n",
    "    f.write(data['access_token'])\n",
    "access_token = open('access_token.txt','r').read()\n",
    "print(access_token)     \n",
    "\n"
   ]
  },
  {
   "cell_type": "code",
   "execution_count": null,
   "metadata": {},
   "outputs": [],
   "source": []
  }
 ],
 "metadata": {
  "kernelspec": {
   "display_name": "algo",
   "language": "python",
   "name": "python3"
  },
  "language_info": {
   "codemirror_mode": {
    "name": "ipython",
    "version": 3
   },
   "file_extension": ".py",
   "mimetype": "text/x-python",
   "name": "python",
   "nbconvert_exporter": "python",
   "pygments_lexer": "ipython3",
   "version": "3.11.7"
  }
 },
 "nbformat": 4,
 "nbformat_minor": 2
}
