{
 "cells": [
  {
   "cell_type": "code",
   "execution_count": 1,
   "metadata": {},
   "outputs": [],
   "source": [
    "import os \n",
    "import logging \n",
    "from kiteconnect import KiteConnect\n",
    "import datetime as dt\n",
    "import pandas as pd \n",
    "import matplotlib.pyplot as plt\n",
    "import numpy as np "
   ]
  },
  {
   "cell_type": "code",
   "execution_count": 2,
   "metadata": {},
   "outputs": [],
   "source": [
    "cwd = os.chdir(r'C:\\Users\\rsurs\\OneDrive\\Documents\\Zerodha\\api_keys')\n",
    "#print(f\"current dir: {os.getcwd()}\")\n",
    "request_token = open('request_token.txt','r').read()\n",
    "key_secret = open('credentials.txt','r').read().split()\n",
    "access_token = open('access_token.txt','r').read()\n",
    "api_key = key_secret[0]\n",
    "api_secret = key_secret[1]\n",
    "kite = KiteConnect(api_key=api_key)\n",
    "kite.set_access_token(access_token=access_token)"
   ]
  },
  {
   "cell_type": "code",
   "execution_count": 3,
   "metadata": {},
   "outputs": [],
   "source": [
    "instrument_dump = kite.instruments('NSE')\n",
    "instrument_df = pd.DataFrame(instrument_dump)\n",
    "instrument_df.to_csv('NSE_instruments.csv',index=False)"
   ]
  },
  {
   "cell_type": "code",
   "execution_count": 4,
   "metadata": {},
   "outputs": [
    {
     "data": {
      "text/html": [
       "<div>\n",
       "<style scoped>\n",
       "    .dataframe tbody tr th:only-of-type {\n",
       "        vertical-align: middle;\n",
       "    }\n",
       "\n",
       "    .dataframe tbody tr th {\n",
       "        vertical-align: top;\n",
       "    }\n",
       "\n",
       "    .dataframe thead th {\n",
       "        text-align: right;\n",
       "    }\n",
       "</style>\n",
       "<table border=\"1\" class=\"dataframe\">\n",
       "  <thead>\n",
       "    <tr style=\"text-align: right;\">\n",
       "      <th></th>\n",
       "      <th>instrument_token</th>\n",
       "      <th>exchange_token</th>\n",
       "      <th>tradingsymbol</th>\n",
       "      <th>name</th>\n",
       "      <th>last_price</th>\n",
       "      <th>expiry</th>\n",
       "      <th>strike</th>\n",
       "      <th>tick_size</th>\n",
       "      <th>lot_size</th>\n",
       "      <th>instrument_type</th>\n",
       "      <th>segment</th>\n",
       "      <th>exchange</th>\n",
       "    </tr>\n",
       "  </thead>\n",
       "  <tbody>\n",
       "    <tr>\n",
       "      <th>0</th>\n",
       "      <td>256265</td>\n",
       "      <td>1001</td>\n",
       "      <td>NIFTY 50</td>\n",
       "      <td>NIFTY 50</td>\n",
       "      <td>0.0</td>\n",
       "      <td></td>\n",
       "      <td>0.0</td>\n",
       "      <td>0.0</td>\n",
       "      <td>0</td>\n",
       "      <td>EQ</td>\n",
       "      <td>INDICES</td>\n",
       "      <td>NSE</td>\n",
       "    </tr>\n",
       "    <tr>\n",
       "      <th>1</th>\n",
       "      <td>256777</td>\n",
       "      <td>1003</td>\n",
       "      <td>NIFTY MIDCAP 100</td>\n",
       "      <td>NIFTY MIDCAP 100</td>\n",
       "      <td>0.0</td>\n",
       "      <td></td>\n",
       "      <td>0.0</td>\n",
       "      <td>0.0</td>\n",
       "      <td>0</td>\n",
       "      <td>EQ</td>\n",
       "      <td>INDICES</td>\n",
       "      <td>NSE</td>\n",
       "    </tr>\n",
       "    <tr>\n",
       "      <th>2</th>\n",
       "      <td>260105</td>\n",
       "      <td>1016</td>\n",
       "      <td>NIFTY BANK</td>\n",
       "      <td>NIFTY BANK</td>\n",
       "      <td>0.0</td>\n",
       "      <td></td>\n",
       "      <td>0.0</td>\n",
       "      <td>0.0</td>\n",
       "      <td>0</td>\n",
       "      <td>EQ</td>\n",
       "      <td>INDICES</td>\n",
       "      <td>NSE</td>\n",
       "    </tr>\n",
       "    <tr>\n",
       "      <th>3</th>\n",
       "      <td>260617</td>\n",
       "      <td>1018</td>\n",
       "      <td>NIFTY 100</td>\n",
       "      <td>NIFTY 100</td>\n",
       "      <td>0.0</td>\n",
       "      <td></td>\n",
       "      <td>0.0</td>\n",
       "      <td>0.0</td>\n",
       "      <td>0</td>\n",
       "      <td>EQ</td>\n",
       "      <td>INDICES</td>\n",
       "      <td>NSE</td>\n",
       "    </tr>\n",
       "    <tr>\n",
       "      <th>4</th>\n",
       "      <td>257033</td>\n",
       "      <td>1004</td>\n",
       "      <td>NIFTY DIV OPPS 50</td>\n",
       "      <td>NIFTY DIV OPPS 50</td>\n",
       "      <td>0.0</td>\n",
       "      <td></td>\n",
       "      <td>0.0</td>\n",
       "      <td>0.0</td>\n",
       "      <td>0</td>\n",
       "      <td>EQ</td>\n",
       "      <td>INDICES</td>\n",
       "      <td>NSE</td>\n",
       "    </tr>\n",
       "  </tbody>\n",
       "</table>\n",
       "</div>"
      ],
      "text/plain": [
       "   instrument_token exchange_token      tradingsymbol               name  \\\n",
       "0            256265           1001           NIFTY 50           NIFTY 50   \n",
       "1            256777           1003   NIFTY MIDCAP 100   NIFTY MIDCAP 100   \n",
       "2            260105           1016         NIFTY BANK         NIFTY BANK   \n",
       "3            260617           1018          NIFTY 100          NIFTY 100   \n",
       "4            257033           1004  NIFTY DIV OPPS 50  NIFTY DIV OPPS 50   \n",
       "\n",
       "   last_price expiry  strike  tick_size  lot_size instrument_type  segment  \\\n",
       "0         0.0            0.0        0.0         0              EQ  INDICES   \n",
       "1         0.0            0.0        0.0         0              EQ  INDICES   \n",
       "2         0.0            0.0        0.0         0              EQ  INDICES   \n",
       "3         0.0            0.0        0.0         0              EQ  INDICES   \n",
       "4         0.0            0.0        0.0         0              EQ  INDICES   \n",
       "\n",
       "  exchange  \n",
       "0      NSE  \n",
       "1      NSE  \n",
       "2      NSE  \n",
       "3      NSE  \n",
       "4      NSE  "
      ]
     },
     "execution_count": 4,
     "metadata": {},
     "output_type": "execute_result"
    }
   ],
   "source": [
    "instrument_df.head()"
   ]
  },
  {
   "cell_type": "code",
   "execution_count": 5,
   "metadata": {},
   "outputs": [],
   "source": [
    "def instrumentLookup(instrument_df,symbol):\n",
    "    \"\"\"Looks up instrument token for a given script from instrument dump\"\"\"\n",
    "    try:\n",
    "        return instrument_df[instrument_df.tradingsymbol==symbol].instrument_token.values[0]\n",
    "    except:\n",
    "        return -1"
   ]
  },
  {
   "cell_type": "code",
   "execution_count": 6,
   "metadata": {},
   "outputs": [
    {
     "name": "stdout",
     "output_type": "stream",
     "text": [
      "738561\n"
     ]
    }
   ],
   "source": [
    "print(instrumentLookup(instrument_df,'RELIANCE'))"
   ]
  },
  {
   "cell_type": "code",
   "execution_count": 7,
   "metadata": {},
   "outputs": [],
   "source": [
    "def fetchOHLC(ticker,interval,duration):\n",
    "    \"\"\"extracts historical data and outputs in the form of dataframe\"\"\"\n",
    "    instrument = instrumentLookup(instrument_df,ticker)\n",
    "    data = pd.DataFrame(kite.historical_data(instrument,dt.date.today()-dt.timedelta(duration), dt.date.today(),interval))\n",
    "    data.set_index(\"date\",inplace=True)\n",
    "    return data\n"
   ]
  },
  {
   "cell_type": "code",
   "execution_count": 8,
   "metadata": {},
   "outputs": [],
   "source": [
    "ohlc_df = fetchOHLC('ICICIBANK','5minute',5)"
   ]
  },
  {
   "cell_type": "code",
   "execution_count": 9,
   "metadata": {},
   "outputs": [
    {
     "data": {
      "text/html": [
       "<div>\n",
       "<style scoped>\n",
       "    .dataframe tbody tr th:only-of-type {\n",
       "        vertical-align: middle;\n",
       "    }\n",
       "\n",
       "    .dataframe tbody tr th {\n",
       "        vertical-align: top;\n",
       "    }\n",
       "\n",
       "    .dataframe thead th {\n",
       "        text-align: right;\n",
       "    }\n",
       "</style>\n",
       "<table border=\"1\" class=\"dataframe\">\n",
       "  <thead>\n",
       "    <tr style=\"text-align: right;\">\n",
       "      <th></th>\n",
       "      <th>open</th>\n",
       "      <th>high</th>\n",
       "      <th>low</th>\n",
       "      <th>close</th>\n",
       "      <th>volume</th>\n",
       "    </tr>\n",
       "    <tr>\n",
       "      <th>date</th>\n",
       "      <th></th>\n",
       "      <th></th>\n",
       "      <th></th>\n",
       "      <th></th>\n",
       "      <th></th>\n",
       "    </tr>\n",
       "  </thead>\n",
       "  <tbody>\n",
       "    <tr>\n",
       "      <th>2024-05-29 09:15:00+05:30</th>\n",
       "      <td>1115.05</td>\n",
       "      <td>1123.55</td>\n",
       "      <td>1115.05</td>\n",
       "      <td>1121.60</td>\n",
       "      <td>600076</td>\n",
       "    </tr>\n",
       "    <tr>\n",
       "      <th>2024-05-29 09:20:00+05:30</th>\n",
       "      <td>1121.40</td>\n",
       "      <td>1121.85</td>\n",
       "      <td>1118.30</td>\n",
       "      <td>1119.55</td>\n",
       "      <td>253766</td>\n",
       "    </tr>\n",
       "    <tr>\n",
       "      <th>2024-05-29 09:25:00+05:30</th>\n",
       "      <td>1119.85</td>\n",
       "      <td>1120.35</td>\n",
       "      <td>1117.75</td>\n",
       "      <td>1118.25</td>\n",
       "      <td>153792</td>\n",
       "    </tr>\n",
       "    <tr>\n",
       "      <th>2024-05-29 09:30:00+05:30</th>\n",
       "      <td>1117.85</td>\n",
       "      <td>1118.40</td>\n",
       "      <td>1117.00</td>\n",
       "      <td>1117.75</td>\n",
       "      <td>113086</td>\n",
       "    </tr>\n",
       "    <tr>\n",
       "      <th>2024-05-29 09:35:00+05:30</th>\n",
       "      <td>1118.00</td>\n",
       "      <td>1118.10</td>\n",
       "      <td>1115.55</td>\n",
       "      <td>1116.20</td>\n",
       "      <td>136577</td>\n",
       "    </tr>\n",
       "  </tbody>\n",
       "</table>\n",
       "</div>"
      ],
      "text/plain": [
       "                              open     high      low    close  volume\n",
       "date                                                                 \n",
       "2024-05-29 09:15:00+05:30  1115.05  1123.55  1115.05  1121.60  600076\n",
       "2024-05-29 09:20:00+05:30  1121.40  1121.85  1118.30  1119.55  253766\n",
       "2024-05-29 09:25:00+05:30  1119.85  1120.35  1117.75  1118.25  153792\n",
       "2024-05-29 09:30:00+05:30  1117.85  1118.40  1117.00  1117.75  113086\n",
       "2024-05-29 09:35:00+05:30  1118.00  1118.10  1115.55  1116.20  136577"
      ]
     },
     "execution_count": 9,
     "metadata": {},
     "output_type": "execute_result"
    }
   ],
   "source": [
    "ohlc_df.head()"
   ]
  },
  {
   "cell_type": "code",
   "execution_count": 10,
   "metadata": {},
   "outputs": [],
   "source": [
    "ohlc_df.to_csv('ohlc.csv')"
   ]
  },
  {
   "cell_type": "code",
   "execution_count": 11,
   "metadata": {},
   "outputs": [
    {
     "data": {
      "text/html": [
       "<div>\n",
       "<style scoped>\n",
       "    .dataframe tbody tr th:only-of-type {\n",
       "        vertical-align: middle;\n",
       "    }\n",
       "\n",
       "    .dataframe tbody tr th {\n",
       "        vertical-align: top;\n",
       "    }\n",
       "\n",
       "    .dataframe thead th {\n",
       "        text-align: right;\n",
       "    }\n",
       "</style>\n",
       "<table border=\"1\" class=\"dataframe\">\n",
       "  <thead>\n",
       "    <tr style=\"text-align: right;\">\n",
       "      <th></th>\n",
       "      <th>open</th>\n",
       "      <th>high</th>\n",
       "      <th>low</th>\n",
       "      <th>close</th>\n",
       "      <th>volume</th>\n",
       "    </tr>\n",
       "    <tr>\n",
       "      <th>date</th>\n",
       "      <th></th>\n",
       "      <th></th>\n",
       "      <th></th>\n",
       "      <th></th>\n",
       "      <th></th>\n",
       "    </tr>\n",
       "  </thead>\n",
       "  <tbody>\n",
       "    <tr>\n",
       "      <th>2024-05-29 09:15:00+05:30</th>\n",
       "      <td>1115.05</td>\n",
       "      <td>1123.55</td>\n",
       "      <td>1115.05</td>\n",
       "      <td>1121.60</td>\n",
       "      <td>600076</td>\n",
       "    </tr>\n",
       "    <tr>\n",
       "      <th>2024-05-29 09:20:00+05:30</th>\n",
       "      <td>1121.40</td>\n",
       "      <td>1121.85</td>\n",
       "      <td>1118.30</td>\n",
       "      <td>1119.55</td>\n",
       "      <td>253766</td>\n",
       "    </tr>\n",
       "    <tr>\n",
       "      <th>2024-05-29 09:25:00+05:30</th>\n",
       "      <td>1119.85</td>\n",
       "      <td>1120.35</td>\n",
       "      <td>1117.75</td>\n",
       "      <td>1118.25</td>\n",
       "      <td>153792</td>\n",
       "    </tr>\n",
       "    <tr>\n",
       "      <th>2024-05-29 09:30:00+05:30</th>\n",
       "      <td>1117.85</td>\n",
       "      <td>1118.40</td>\n",
       "      <td>1117.00</td>\n",
       "      <td>1117.75</td>\n",
       "      <td>113086</td>\n",
       "    </tr>\n",
       "    <tr>\n",
       "      <th>2024-05-29 09:35:00+05:30</th>\n",
       "      <td>1118.00</td>\n",
       "      <td>1118.10</td>\n",
       "      <td>1115.55</td>\n",
       "      <td>1116.20</td>\n",
       "      <td>136577</td>\n",
       "    </tr>\n",
       "  </tbody>\n",
       "</table>\n",
       "</div>"
      ],
      "text/plain": [
       "                              open     high      low    close  volume\n",
       "date                                                                 \n",
       "2024-05-29 09:15:00+05:30  1115.05  1123.55  1115.05  1121.60  600076\n",
       "2024-05-29 09:20:00+05:30  1121.40  1121.85  1118.30  1119.55  253766\n",
       "2024-05-29 09:25:00+05:30  1119.85  1120.35  1117.75  1118.25  153792\n",
       "2024-05-29 09:30:00+05:30  1117.85  1118.40  1117.00  1117.75  113086\n",
       "2024-05-29 09:35:00+05:30  1118.00  1118.10  1115.55  1116.20  136577"
      ]
     },
     "execution_count": 11,
     "metadata": {},
     "output_type": "execute_result"
    }
   ],
   "source": [
    "df = pd.read_csv('ohlc.csv')\n",
    "df.set_index('date',inplace=True)\n",
    "df.head()"
   ]
  },
  {
   "cell_type": "code",
   "execution_count": 12,
   "metadata": {},
   "outputs": [],
   "source": [
    "n=50"
   ]
  },
  {
   "cell_type": "code",
   "execution_count": 13,
   "metadata": {},
   "outputs": [],
   "source": [
    "# df['sma'] = df['close'].rolling(n).mean()\n",
    "# df"
   ]
  },
  {
   "cell_type": "code",
   "execution_count": 14,
   "metadata": {},
   "outputs": [],
   "source": [
    "# df.dropna(inplace=True)"
   ]
  },
  {
   "cell_type": "code",
   "execution_count": 15,
   "metadata": {},
   "outputs": [],
   "source": [
    "# df.head()"
   ]
  },
  {
   "cell_type": "code",
   "execution_count": 16,
   "metadata": {},
   "outputs": [],
   "source": [
    "# multiplier = 2/(n + 1)"
   ]
  },
  {
   "cell_type": "code",
   "execution_count": 17,
   "metadata": {},
   "outputs": [],
   "source": [
    "# df['ema'] = np.nan"
   ]
  },
  {
   "cell_type": "code",
   "execution_count": 18,
   "metadata": {},
   "outputs": [],
   "source": [
    "# df"
   ]
  },
  {
   "cell_type": "code",
   "execution_count": 19,
   "metadata": {},
   "outputs": [],
   "source": [
    "# for i in range(len(df)):\n",
    "#     if i == 1:\n",
    "#         df['ema'].iloc[i] = (df['close'].iloc[i] - df['sma'].iloc[i-1]) + df['sma'].iloc[i-1]\n",
    "#     else:\n",
    "#         df['ema'].iloc[i] = (df['close'].iloc[i] - df['ema'].iloc[i-1]) + df['ema'].iloc[i-1]"
   ]
  },
  {
   "cell_type": "code",
   "execution_count": 20,
   "metadata": {},
   "outputs": [],
   "source": [
    "# df"
   ]
  },
  {
   "cell_type": "code",
   "execution_count": 21,
   "metadata": {},
   "outputs": [],
   "source": [
    "# How to compute ema ?\n",
    "\n",
    "# 1. Calculate the SMA\n",
    "\n",
    "# (Period Values / Number of Periods)\n",
    "# 2. Calculate the Multiplier\n",
    "\n",
    "# (2 / (Number of Periods + 1) therefore (2 / (5+1) = 33.333%\n",
    "# 3. Calculate the EMA\n",
    "# For the first EMA, we use the SMA(previous day) instead of EMA(previous day).\n",
    "\n",
    "# EMA = {Close - EMA(previous day)} x multiplier + EMA(previous day)\n",
    "\n",
    "\n",
    "# How to compute macd ?\n",
    "\n",
    "# Calculate the short-term EMA (Exponential Moving Average): This is often based on a 12-period EMA.\n",
    "# Calculate the long-term EMA: This is often based on a 26-period EMA.\n",
    "# Calculate the MACD Line: Subtract the long-term EMA from the short-term EMA.\n",
    "# Calculate the Signal Line: Calculate a 9-period EMA of the MACD Line to create the Signal Line.\n",
    "\n",
    "\n",
    "def compute_ema(df,n):\n",
    "    df['sma'] = df['close'].rolling(n).mean()\n",
    "    multiplier = 2/(n + 1)\n",
    "    df.dropna(inplace=True)\n",
    "    df['ema'] = np.nan\n",
    "    ema_values = []\n",
    "    for i in range(len(df)):\n",
    "        if i == 1:\n",
    "            df.loc[df.index[i], 'ema'] =  (df.loc[df.index[i],'close'] - df.loc[df.index[i - 1],'sma']) * multiplier + df.loc[df.index[i - 1], 'sma']\n",
    "            #ema_values.append(df.loc[df.index[i], 'ema'])            \n",
    "        else:\n",
    "            df.loc[df.index[i], 'ema'] =  (df.loc[df.index[i],'close'] - df.loc[df.index[i - 1],'ema']) * multiplier + df.loc[df.index[i - 1], 'ema']\n",
    "        ema_values.append(df.loc[df.index[i], 'ema'])\n",
    "    return df[['ema']],ema_values\n",
    "\n",
    "    "
   ]
  },
  {
   "cell_type": "code",
   "execution_count": 22,
   "metadata": {},
   "outputs": [],
   "source": [
    "# ema_df,ema_vals = compute_ema(df,n=50)"
   ]
  },
  {
   "cell_type": "code",
   "execution_count": 23,
   "metadata": {},
   "outputs": [],
   "source": [
    "# ema_vals"
   ]
  },
  {
   "cell_type": "code",
   "execution_count": 24,
   "metadata": {},
   "outputs": [],
   "source": [
    "# ema_df"
   ]
  },
  {
   "cell_type": "code",
   "execution_count": 25,
   "metadata": {},
   "outputs": [],
   "source": [
    "# df[['close','fast']] = compute_ema(df,n=12)\n",
    "# df[['close','slow']] = compute_ema(df,n=26)\n",
    "# df['macd'] = df['fast'] - df['slow']\n",
    "# df[['close','signal']] = compute_ema(df[['close','macd']],n=9)\n",
    "# df"
   ]
  },
  {
   "cell_type": "code",
   "execution_count": 26,
   "metadata": {},
   "outputs": [
    {
     "ename": "ValueError",
     "evalue": "Length of values (2) does not match length of index (289)",
     "output_type": "error",
     "traceback": [
      "\u001b[1;31m---------------------------------------------------------------------------\u001b[0m",
      "\u001b[1;31mValueError\u001b[0m                                Traceback (most recent call last)",
      "Cell \u001b[1;32mIn[26], line 1\u001b[0m\n\u001b[1;32m----> 1\u001b[0m df[\u001b[38;5;124m'\u001b[39m\u001b[38;5;124mfast\u001b[39m\u001b[38;5;124m'\u001b[39m] \u001b[38;5;241m=\u001b[39m compute_ema(df, n\u001b[38;5;241m=\u001b[39m\u001b[38;5;241m12\u001b[39m)\n\u001b[0;32m      2\u001b[0m df[\u001b[38;5;124m'\u001b[39m\u001b[38;5;124mslow\u001b[39m\u001b[38;5;124m'\u001b[39m] \u001b[38;5;241m=\u001b[39m compute_ema(df, n\u001b[38;5;241m=\u001b[39m\u001b[38;5;241m26\u001b[39m)\n\u001b[0;32m      3\u001b[0m df[\u001b[38;5;124m'\u001b[39m\u001b[38;5;124mmacd\u001b[39m\u001b[38;5;124m'\u001b[39m] \u001b[38;5;241m=\u001b[39m df[\u001b[38;5;124m'\u001b[39m\u001b[38;5;124mfast\u001b[39m\u001b[38;5;124m'\u001b[39m] \u001b[38;5;241m-\u001b[39m df[\u001b[38;5;124m'\u001b[39m\u001b[38;5;124mslow\u001b[39m\u001b[38;5;124m'\u001b[39m]\n",
      "File \u001b[1;32mc:\\Users\\rsurs\\miniconda3\\envs\\algo\\Lib\\site-packages\\pandas\\core\\frame.py:4299\u001b[0m, in \u001b[0;36mDataFrame.__setitem__\u001b[1;34m(self, key, value)\u001b[0m\n\u001b[0;32m   4296\u001b[0m     \u001b[38;5;28mself\u001b[39m\u001b[38;5;241m.\u001b[39m_setitem_array([key], value)\n\u001b[0;32m   4297\u001b[0m \u001b[38;5;28;01melse\u001b[39;00m:\n\u001b[0;32m   4298\u001b[0m     \u001b[38;5;66;03m# set column\u001b[39;00m\n\u001b[1;32m-> 4299\u001b[0m     \u001b[38;5;28mself\u001b[39m\u001b[38;5;241m.\u001b[39m_set_item(key, value)\n",
      "File \u001b[1;32mc:\\Users\\rsurs\\miniconda3\\envs\\algo\\Lib\\site-packages\\pandas\\core\\frame.py:4512\u001b[0m, in \u001b[0;36mDataFrame._set_item\u001b[1;34m(self, key, value)\u001b[0m\n\u001b[0;32m   4502\u001b[0m \u001b[38;5;28;01mdef\u001b[39;00m \u001b[38;5;21m_set_item\u001b[39m(\u001b[38;5;28mself\u001b[39m, key, value) \u001b[38;5;241m-\u001b[39m\u001b[38;5;241m>\u001b[39m \u001b[38;5;28;01mNone\u001b[39;00m:\n\u001b[0;32m   4503\u001b[0m \u001b[38;5;250m    \u001b[39m\u001b[38;5;124;03m\"\"\"\u001b[39;00m\n\u001b[0;32m   4504\u001b[0m \u001b[38;5;124;03m    Add series to DataFrame in specified column.\u001b[39;00m\n\u001b[0;32m   4505\u001b[0m \n\u001b[1;32m   (...)\u001b[0m\n\u001b[0;32m   4510\u001b[0m \u001b[38;5;124;03m    ensure homogeneity.\u001b[39;00m\n\u001b[0;32m   4511\u001b[0m \u001b[38;5;124;03m    \"\"\"\u001b[39;00m\n\u001b[1;32m-> 4512\u001b[0m     value, refs \u001b[38;5;241m=\u001b[39m \u001b[38;5;28mself\u001b[39m\u001b[38;5;241m.\u001b[39m_sanitize_column(value)\n\u001b[0;32m   4514\u001b[0m     \u001b[38;5;28;01mif\u001b[39;00m (\n\u001b[0;32m   4515\u001b[0m         key \u001b[38;5;129;01min\u001b[39;00m \u001b[38;5;28mself\u001b[39m\u001b[38;5;241m.\u001b[39mcolumns\n\u001b[0;32m   4516\u001b[0m         \u001b[38;5;129;01mand\u001b[39;00m value\u001b[38;5;241m.\u001b[39mndim \u001b[38;5;241m==\u001b[39m \u001b[38;5;241m1\u001b[39m\n\u001b[0;32m   4517\u001b[0m         \u001b[38;5;129;01mand\u001b[39;00m \u001b[38;5;129;01mnot\u001b[39;00m \u001b[38;5;28misinstance\u001b[39m(value\u001b[38;5;241m.\u001b[39mdtype, ExtensionDtype)\n\u001b[0;32m   4518\u001b[0m     ):\n\u001b[0;32m   4519\u001b[0m         \u001b[38;5;66;03m# broadcast across multiple columns if necessary\u001b[39;00m\n\u001b[0;32m   4520\u001b[0m         \u001b[38;5;28;01mif\u001b[39;00m \u001b[38;5;129;01mnot\u001b[39;00m \u001b[38;5;28mself\u001b[39m\u001b[38;5;241m.\u001b[39mcolumns\u001b[38;5;241m.\u001b[39mis_unique \u001b[38;5;129;01mor\u001b[39;00m \u001b[38;5;28misinstance\u001b[39m(\u001b[38;5;28mself\u001b[39m\u001b[38;5;241m.\u001b[39mcolumns, MultiIndex):\n",
      "File \u001b[1;32mc:\\Users\\rsurs\\miniconda3\\envs\\algo\\Lib\\site-packages\\pandas\\core\\frame.py:5253\u001b[0m, in \u001b[0;36mDataFrame._sanitize_column\u001b[1;34m(self, value)\u001b[0m\n\u001b[0;32m   5250\u001b[0m     \u001b[38;5;28;01mreturn\u001b[39;00m _reindex_for_setitem(value, \u001b[38;5;28mself\u001b[39m\u001b[38;5;241m.\u001b[39mindex)\n\u001b[0;32m   5252\u001b[0m \u001b[38;5;28;01mif\u001b[39;00m is_list_like(value):\n\u001b[1;32m-> 5253\u001b[0m     com\u001b[38;5;241m.\u001b[39mrequire_length_match(value, \u001b[38;5;28mself\u001b[39m\u001b[38;5;241m.\u001b[39mindex)\n\u001b[0;32m   5254\u001b[0m arr \u001b[38;5;241m=\u001b[39m sanitize_array(value, \u001b[38;5;28mself\u001b[39m\u001b[38;5;241m.\u001b[39mindex, copy\u001b[38;5;241m=\u001b[39m\u001b[38;5;28;01mTrue\u001b[39;00m, allow_2d\u001b[38;5;241m=\u001b[39m\u001b[38;5;28;01mTrue\u001b[39;00m)\n\u001b[0;32m   5255\u001b[0m \u001b[38;5;28;01mif\u001b[39;00m (\n\u001b[0;32m   5256\u001b[0m     \u001b[38;5;28misinstance\u001b[39m(value, Index)\n\u001b[0;32m   5257\u001b[0m     \u001b[38;5;129;01mand\u001b[39;00m value\u001b[38;5;241m.\u001b[39mdtype \u001b[38;5;241m==\u001b[39m \u001b[38;5;124m\"\u001b[39m\u001b[38;5;124mobject\u001b[39m\u001b[38;5;124m\"\u001b[39m\n\u001b[1;32m   (...)\u001b[0m\n\u001b[0;32m   5260\u001b[0m     \u001b[38;5;66;03m# TODO: Remove kludge in sanitize_array for string mode when enforcing\u001b[39;00m\n\u001b[0;32m   5261\u001b[0m     \u001b[38;5;66;03m# this deprecation\u001b[39;00m\n",
      "File \u001b[1;32mc:\\Users\\rsurs\\miniconda3\\envs\\algo\\Lib\\site-packages\\pandas\\core\\common.py:573\u001b[0m, in \u001b[0;36mrequire_length_match\u001b[1;34m(data, index)\u001b[0m\n\u001b[0;32m    569\u001b[0m \u001b[38;5;250m\u001b[39m\u001b[38;5;124;03m\"\"\"\u001b[39;00m\n\u001b[0;32m    570\u001b[0m \u001b[38;5;124;03mCheck the length of data matches the length of the index.\u001b[39;00m\n\u001b[0;32m    571\u001b[0m \u001b[38;5;124;03m\"\"\"\u001b[39;00m\n\u001b[0;32m    572\u001b[0m \u001b[38;5;28;01mif\u001b[39;00m \u001b[38;5;28mlen\u001b[39m(data) \u001b[38;5;241m!=\u001b[39m \u001b[38;5;28mlen\u001b[39m(index):\n\u001b[1;32m--> 573\u001b[0m     \u001b[38;5;28;01mraise\u001b[39;00m \u001b[38;5;167;01mValueError\u001b[39;00m(\n\u001b[0;32m    574\u001b[0m         \u001b[38;5;124m\"\u001b[39m\u001b[38;5;124mLength of values \u001b[39m\u001b[38;5;124m\"\u001b[39m\n\u001b[0;32m    575\u001b[0m         \u001b[38;5;124mf\u001b[39m\u001b[38;5;124m\"\u001b[39m\u001b[38;5;124m(\u001b[39m\u001b[38;5;132;01m{\u001b[39;00m\u001b[38;5;28mlen\u001b[39m(data)\u001b[38;5;132;01m}\u001b[39;00m\u001b[38;5;124m) \u001b[39m\u001b[38;5;124m\"\u001b[39m\n\u001b[0;32m    576\u001b[0m         \u001b[38;5;124m\"\u001b[39m\u001b[38;5;124mdoes not match length of index \u001b[39m\u001b[38;5;124m\"\u001b[39m\n\u001b[0;32m    577\u001b[0m         \u001b[38;5;124mf\u001b[39m\u001b[38;5;124m\"\u001b[39m\u001b[38;5;124m(\u001b[39m\u001b[38;5;132;01m{\u001b[39;00m\u001b[38;5;28mlen\u001b[39m(index)\u001b[38;5;132;01m}\u001b[39;00m\u001b[38;5;124m)\u001b[39m\u001b[38;5;124m\"\u001b[39m\n\u001b[0;32m    578\u001b[0m     )\n",
      "\u001b[1;31mValueError\u001b[0m: Length of values (2) does not match length of index (289)"
     ]
    }
   ],
   "source": [
    "df['fast'] = compute_ema(df, n=12)\n",
    "df['slow'] = compute_ema(df, n=26)\n",
    "df['macd'] = df['fast'] - df['slow']\n",
    "df['signal'] = compute_ema(df[['macd']], n=9)\n"
   ]
  },
  {
   "cell_type": "code",
   "execution_count": null,
   "metadata": {},
   "outputs": [],
   "source": [
    "    "
   ]
  },
  {
   "cell_type": "code",
   "execution_count": null,
   "metadata": {},
   "outputs": [
    {
     "data": {
      "text/html": [
       "<div>\n",
       "<style scoped>\n",
       "    .dataframe tbody tr th:only-of-type {\n",
       "        vertical-align: middle;\n",
       "    }\n",
       "\n",
       "    .dataframe tbody tr th {\n",
       "        vertical-align: top;\n",
       "    }\n",
       "\n",
       "    .dataframe thead th {\n",
       "        text-align: right;\n",
       "    }\n",
       "</style>\n",
       "<table border=\"1\" class=\"dataframe\">\n",
       "  <thead>\n",
       "    <tr style=\"text-align: right;\">\n",
       "      <th></th>\n",
       "      <th>open</th>\n",
       "      <th>high</th>\n",
       "      <th>low</th>\n",
       "      <th>close</th>\n",
       "      <th>volume</th>\n",
       "    </tr>\n",
       "    <tr>\n",
       "      <th>date</th>\n",
       "      <th></th>\n",
       "      <th></th>\n",
       "      <th></th>\n",
       "      <th></th>\n",
       "      <th></th>\n",
       "    </tr>\n",
       "  </thead>\n",
       "  <tbody>\n",
       "    <tr>\n",
       "      <th>2024-05-29 09:15:00+05:30</th>\n",
       "      <td>1115.05</td>\n",
       "      <td>1123.55</td>\n",
       "      <td>1115.05</td>\n",
       "      <td>1121.60</td>\n",
       "      <td>600076</td>\n",
       "    </tr>\n",
       "    <tr>\n",
       "      <th>2024-05-29 09:20:00+05:30</th>\n",
       "      <td>1121.40</td>\n",
       "      <td>1121.85</td>\n",
       "      <td>1118.30</td>\n",
       "      <td>1119.55</td>\n",
       "      <td>253766</td>\n",
       "    </tr>\n",
       "    <tr>\n",
       "      <th>2024-05-29 09:25:00+05:30</th>\n",
       "      <td>1119.85</td>\n",
       "      <td>1120.35</td>\n",
       "      <td>1117.75</td>\n",
       "      <td>1118.25</td>\n",
       "      <td>153792</td>\n",
       "    </tr>\n",
       "    <tr>\n",
       "      <th>2024-05-29 09:30:00+05:30</th>\n",
       "      <td>1117.85</td>\n",
       "      <td>1118.40</td>\n",
       "      <td>1117.00</td>\n",
       "      <td>1117.75</td>\n",
       "      <td>113086</td>\n",
       "    </tr>\n",
       "    <tr>\n",
       "      <th>2024-05-29 09:35:00+05:30</th>\n",
       "      <td>1118.00</td>\n",
       "      <td>1118.10</td>\n",
       "      <td>1115.55</td>\n",
       "      <td>1116.20</td>\n",
       "      <td>136577</td>\n",
       "    </tr>\n",
       "    <tr>\n",
       "      <th>...</th>\n",
       "      <td>...</td>\n",
       "      <td>...</td>\n",
       "      <td>...</td>\n",
       "      <td>...</td>\n",
       "      <td>...</td>\n",
       "    </tr>\n",
       "    <tr>\n",
       "      <th>2024-06-03 15:05:00+05:30</th>\n",
       "      <td>1156.90</td>\n",
       "      <td>1159.10</td>\n",
       "      <td>1155.35</td>\n",
       "      <td>1158.65</td>\n",
       "      <td>928735</td>\n",
       "    </tr>\n",
       "    <tr>\n",
       "      <th>2024-06-03 15:10:00+05:30</th>\n",
       "      <td>1158.65</td>\n",
       "      <td>1160.00</td>\n",
       "      <td>1158.20</td>\n",
       "      <td>1159.40</td>\n",
       "      <td>667891</td>\n",
       "    </tr>\n",
       "    <tr>\n",
       "      <th>2024-06-03 15:15:00+05:30</th>\n",
       "      <td>1159.25</td>\n",
       "      <td>1164.40</td>\n",
       "      <td>1159.25</td>\n",
       "      <td>1163.70</td>\n",
       "      <td>921456</td>\n",
       "    </tr>\n",
       "    <tr>\n",
       "      <th>2024-06-03 15:20:00+05:30</th>\n",
       "      <td>1163.70</td>\n",
       "      <td>1164.50</td>\n",
       "      <td>1161.55</td>\n",
       "      <td>1163.90</td>\n",
       "      <td>763624</td>\n",
       "    </tr>\n",
       "    <tr>\n",
       "      <th>2024-06-03 15:25:00+05:30</th>\n",
       "      <td>1163.90</td>\n",
       "      <td>1165.00</td>\n",
       "      <td>1162.60</td>\n",
       "      <td>1164.90</td>\n",
       "      <td>439875</td>\n",
       "    </tr>\n",
       "  </tbody>\n",
       "</table>\n",
       "<p>300 rows × 5 columns</p>\n",
       "</div>"
      ],
      "text/plain": [
       "                              open     high      low    close  volume\n",
       "date                                                                 \n",
       "2024-05-29 09:15:00+05:30  1115.05  1123.55  1115.05  1121.60  600076\n",
       "2024-05-29 09:20:00+05:30  1121.40  1121.85  1118.30  1119.55  253766\n",
       "2024-05-29 09:25:00+05:30  1119.85  1120.35  1117.75  1118.25  153792\n",
       "2024-05-29 09:30:00+05:30  1117.85  1118.40  1117.00  1117.75  113086\n",
       "2024-05-29 09:35:00+05:30  1118.00  1118.10  1115.55  1116.20  136577\n",
       "...                            ...      ...      ...      ...     ...\n",
       "2024-06-03 15:05:00+05:30  1156.90  1159.10  1155.35  1158.65  928735\n",
       "2024-06-03 15:10:00+05:30  1158.65  1160.00  1158.20  1159.40  667891\n",
       "2024-06-03 15:15:00+05:30  1159.25  1164.40  1159.25  1163.70  921456\n",
       "2024-06-03 15:20:00+05:30  1163.70  1164.50  1161.55  1163.90  763624\n",
       "2024-06-03 15:25:00+05:30  1163.90  1165.00  1162.60  1164.90  439875\n",
       "\n",
       "[300 rows x 5 columns]"
      ]
     },
     "execution_count": 27,
     "metadata": {},
     "output_type": "execute_result"
    }
   ],
   "source": [
    "df"
   ]
  }
 ],
 "metadata": {
  "kernelspec": {
   "display_name": "algo",
   "language": "python",
   "name": "python3"
  },
  "language_info": {
   "codemirror_mode": {
    "name": "ipython",
    "version": 3
   },
   "file_extension": ".py",
   "mimetype": "text/x-python",
   "name": "python",
   "nbconvert_exporter": "python",
   "pygments_lexer": "ipython3",
   "version": "3.11.7"
  }
 },
 "nbformat": 4,
 "nbformat_minor": 2
}
