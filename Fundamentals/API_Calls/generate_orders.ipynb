{
 "cells": [
  {
   "cell_type": "code",
   "execution_count": 5,
   "metadata": {},
   "outputs": [],
   "source": [
    "from kiteconnect import KiteConnect\n",
    "import logging \n",
    "import os \n",
    "import datetime as dt \n",
    "import pandas as pd "
   ]
  },
  {
   "cell_type": "code",
   "execution_count": 6,
   "metadata": {},
   "outputs": [],
   "source": [
    "curr_dir = os.chdir(r'C:\\Users\\rsurs\\OneDrive\\Documents\\Zerodha\\api_keys')\n",
    "#print(os.getcwd())"
   ]
  },
  {
   "cell_type": "code",
   "execution_count": 7,
   "metadata": {},
   "outputs": [],
   "source": [
    "request_token = open('request_token.txt','r').read()\n",
    "key_secret = open('credentials.txt','r').read().split()\n",
    "access_token = open('access_token.txt','r').read()\n",
    "api_key = key_secret[0]\n",
    "api_secret = key_secret[1]\n",
    "kite = KiteConnect(api_key=api_key)\n",
    "kite.set_access_token(access_token=access_token)"
   ]
  },
  {
   "cell_type": "code",
   "execution_count": 21,
   "metadata": {},
   "outputs": [],
   "source": [
    "def place_market_order(symbol,buy_sell,quantity):\n",
    "    if buy_sell == 'buy':\n",
    "        transaction_type = kite.TRANSACTION_TYPE_BUY\n",
    "    elif buy_sell == 'sell':\n",
    "        transaction_type = kite.TRANSACTION_TYPE_SELL\n",
    "    \n",
    "    order_id = kite.place_order(tradingsymbol=symbol,\n",
    "                     exchange=kite.EXCHANGE_NSE,\n",
    "                     transaction_type=transaction_type,\n",
    "                     quantity=quantity,\n",
    "                     order_type=kite.ORDER_TYPE_MARKET,\n",
    "                     product=kite.PRODUCT_MIS,\n",
    "                     variety=kite.VARIETY_REGULAR)\n",
    "    \n",
    "    order = kite.order_history(order_id=order_id)\n",
    "    #print(order)\n",
    "    if order:\n",
    "        curr_order = order[-1]\n",
    "        print(f\"Order ID: {curr_order['order_id']}\", \n",
    "              f\"Status: {curr_order['status']}\", \n",
    "              f\"Symbol: {curr_order['tradingsymbol']}\" ,\n",
    "              f\"Avg Price: {curr_order['average_price']}\",\n",
    "              f\"Date Time: {curr_order['order_timestamp']}\")\n",
    "\n",
    "\n",
    "\n",
    "\n",
    "# place_market_order('TATAMOTORS','buy',1)"
   ]
  },
  {
   "cell_type": "code",
   "execution_count": 22,
   "metadata": {},
   "outputs": [
    {
     "name": "stdout",
     "output_type": "stream",
     "text": [
      "Order ID: 240527001466773 Status: REJECTED Symbol: MRF Avg Price: 0 Date Time: 2024-05-27 11:53:09\n"
     ]
    }
   ],
   "source": [
    "# place_market_order('MRF','buy',1)"
   ]
  },
  {
   "cell_type": "code",
   "execution_count": null,
   "metadata": {},
   "outputs": [],
   "source": [
    "quote =  kite.quote('NSE:INFY') #fetches quote \n",
    "for i,val in quote.items():\n",
    "    print(i,val)\n",
    "\n",
    "#Last trading price \n",
    "ltp = kite.ltp('NSE:INFY')\n",
    "print(ltp)\n",
    "\n",
    "#fetch order details \n",
    "orders = kite.orders()\n",
    "print(orders) #order id is the most important piece of information \n",
    "\n",
    "positions = kite.positions() #unrealised p/l, stoploss \n",
    "print(positions)\n",
    "\n",
    "holdings = kite.holdings()\n",
    "print(holdings)\n",
    "\n",
    "\n"
   ]
  }
 ],
 "metadata": {
  "kernelspec": {
   "display_name": "algo",
   "language": "python",
   "name": "python3"
  },
  "language_info": {
   "codemirror_mode": {
    "name": "ipython",
    "version": 3
   },
   "file_extension": ".py",
   "mimetype": "text/x-python",
   "name": "python",
   "nbconvert_exporter": "python",
   "pygments_lexer": "ipython3",
   "version": "3.11.7"
  }
 },
 "nbformat": 4,
 "nbformat_minor": 2
}
