{
 "cells": [
  {
   "cell_type": "code",
   "execution_count": 13,
   "metadata": {},
   "outputs": [],
   "source": [
    "from kiteconnect import KiteConnect\n",
    "import pandas as pd "
   ]
  },
  {
   "cell_type": "code",
   "execution_count": 14,
   "metadata": {},
   "outputs": [
    {
     "name": "stdout",
     "output_type": "stream",
     "text": [
      "https://kite.zerodha.com/connect/login?api_key=o6jjofcxz8a85ruh&v=3\n"
     ]
    }
   ],
   "source": [
    "api_key = open('zerodha_api_key.txt','r').read().strip('\\n')\n",
    "api_secret = open('zerodha_secret_api_key.txt','r').read().strip('\\n')\n",
    "kite = KiteConnect(api_key=api_key)\n",
    "print(kite.login_url())"
   ]
  },
  {
   "cell_type": "code",
   "execution_count": 16,
   "metadata": {},
   "outputs": [],
   "source": [
    "request_token = open('request_token.txt','r').read().strip('\\n')\n",
    "data = kite.generate_session(request_token, api_secret=api_secret)"
   ]
  },
  {
   "cell_type": "code",
   "execution_count": 19,
   "metadata": {},
   "outputs": [
    {
     "data": {
      "text/plain": [
       "{'user_type': 'individual/ind_with_nom',\n",
       " 'email': 'jsmu.dev@gmail.com',\n",
       " 'user_name': 'Jayasuryan Mutyala',\n",
       " 'user_shortname': 'Jayasuryan',\n",
       " 'broker': 'ZERODHA',\n",
       " 'exchanges': ['BCD', 'BSE', 'BFO', 'NFO', 'NSE', 'CDS', 'MF'],\n",
       " 'products': ['CNC', 'NRML', 'MIS', 'BO', 'CO'],\n",
       " 'order_types': ['MARKET', 'LIMIT', 'SL', 'SL-M'],\n",
       " 'avatar_url': None,\n",
       " 'user_id': 'KUF434',\n",
       " 'api_key': 'o6jjofcxz8a85ruh',\n",
       " 'access_token': 'IEXt1Op51WczsqrCldou45qBMT1z1tvz',\n",
       " 'public_token': 'TMvrmDl48VexvcEUcSZ3hyWu8hQGgYmC',\n",
       " 'refresh_token': '',\n",
       " 'enctoken': 'nhM+4tsD0GmMJ0fxdslBOdZvdfLs5rbpR7KJUz3twcecNUzHsXdz0WXg3orj0CFNZnVtamj6SdMsydAWNtGmqHJ8gzj+Uk3o7TKyAM8ioqhQUE1Px8Nw7cVgRgMygKs=',\n",
       " 'login_time': datetime.datetime(2024, 5, 24, 8, 56, 47),\n",
       " 'meta': {'demat_consent': 'consent'}}"
      ]
     },
     "execution_count": 19,
     "metadata": {},
     "output_type": "execute_result"
    }
   ],
   "source": [
    "data"
   ]
  },
  {
   "cell_type": "code",
   "execution_count": 20,
   "metadata": {},
   "outputs": [],
   "source": [
    "kite.set_access_token(data[\"access_token\"])"
   ]
  },
  {
   "cell_type": "code",
   "execution_count": 21,
   "metadata": {},
   "outputs": [],
   "source": [
    "instrument_dump = kite.instruments(\"NSE\")\n",
    "instrument_df = pd.DataFrame(instrument_dump)\n",
    "instrument_df.to_csv(\"NSE_Instruments.csv\",index=False)"
   ]
  }
 ],
 "metadata": {
  "kernelspec": {
   "display_name": "algo",
   "language": "python",
   "name": "python3"
  },
  "language_info": {
   "codemirror_mode": {
    "name": "ipython",
    "version": 3
   },
   "file_extension": ".py",
   "mimetype": "text/x-python",
   "name": "python",
   "nbconvert_exporter": "python",
   "pygments_lexer": "ipython3",
   "version": "3.11.7"
  }
 },
 "nbformat": 4,
 "nbformat_minor": 2
}
