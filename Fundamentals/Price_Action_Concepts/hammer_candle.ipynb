{
 "cells": [
  {
   "cell_type": "code",
   "execution_count": 16,
   "metadata": {},
   "outputs": [],
   "source": [
    "from auto_login import get_curr_path,get_credentials,auto_login,generate_access_token\n",
    "import os \n",
    "import logging \n",
    "from kiteconnect import KiteConnect\n",
    "import datetime as dt\n",
    "import pandas as pd \n",
    "import matplotlib.pyplot as plt\n",
    "import numpy as np \n",
    "import ta\n",
    "import statsmodels.api as sm\n"
   ]
  },
  {
   "cell_type": "code",
   "execution_count": 3,
   "metadata": {},
   "outputs": [],
   "source": [
    "folder_name = 'api_keys'\n",
    "curr_dir = get_curr_path(folder_name)\n",
    "\n",
    "file_name = 'credentials.txt'\n",
    "api_key,api_secret,user_name,pwd,totp_key = get_credentials(curr_dir,file_name)\n",
    "\n",
    "request_token = auto_login(api_key,user_name,pwd,totp_key)\n",
    "\n",
    "access_token = generate_access_token(request_token,api_key,api_secret)\n",
    "\n",
    "\n"
   ]
  },
  {
   "cell_type": "code",
   "execution_count": 4,
   "metadata": {},
   "outputs": [],
   "source": [
    "kite = KiteConnect(api_key=api_key)\n",
    "kite.set_access_token(access_token=access_token)"
   ]
  },
  {
   "cell_type": "code",
   "execution_count": 5,
   "metadata": {},
   "outputs": [],
   "source": [
    "instrument_dump = kite.instruments('NSE')\n",
    "instrument_df = pd.DataFrame(instrument_dump)\n",
    "instrument_df.to_csv('NSE_instruments.csv',index=False)"
   ]
  },
  {
   "cell_type": "code",
   "execution_count": 6,
   "metadata": {},
   "outputs": [
    {
     "data": {
      "text/html": [
       "<div>\n",
       "<style scoped>\n",
       "    .dataframe tbody tr th:only-of-type {\n",
       "        vertical-align: middle;\n",
       "    }\n",
       "\n",
       "    .dataframe tbody tr th {\n",
       "        vertical-align: top;\n",
       "    }\n",
       "\n",
       "    .dataframe thead th {\n",
       "        text-align: right;\n",
       "    }\n",
       "</style>\n",
       "<table border=\"1\" class=\"dataframe\">\n",
       "  <thead>\n",
       "    <tr style=\"text-align: right;\">\n",
       "      <th></th>\n",
       "      <th>open</th>\n",
       "      <th>high</th>\n",
       "      <th>low</th>\n",
       "      <th>close</th>\n",
       "      <th>volume</th>\n",
       "    </tr>\n",
       "    <tr>\n",
       "      <th>date</th>\n",
       "      <th></th>\n",
       "      <th></th>\n",
       "      <th></th>\n",
       "      <th></th>\n",
       "      <th></th>\n",
       "    </tr>\n",
       "  </thead>\n",
       "  <tbody>\n",
       "    <tr>\n",
       "      <th>2024-06-05 09:15:00+05:30</th>\n",
       "      <td>1400.15</td>\n",
       "      <td>1418.10</td>\n",
       "      <td>1400.15</td>\n",
       "      <td>1409.45</td>\n",
       "      <td>433610</td>\n",
       "    </tr>\n",
       "    <tr>\n",
       "      <th>2024-06-05 09:20:00+05:30</th>\n",
       "      <td>1409.00</td>\n",
       "      <td>1412.65</td>\n",
       "      <td>1404.00</td>\n",
       "      <td>1404.90</td>\n",
       "      <td>290268</td>\n",
       "    </tr>\n",
       "    <tr>\n",
       "      <th>2024-06-05 09:25:00+05:30</th>\n",
       "      <td>1404.95</td>\n",
       "      <td>1406.00</td>\n",
       "      <td>1401.95</td>\n",
       "      <td>1405.00</td>\n",
       "      <td>1064215</td>\n",
       "    </tr>\n",
       "    <tr>\n",
       "      <th>2024-06-05 09:30:00+05:30</th>\n",
       "      <td>1405.00</td>\n",
       "      <td>1410.05</td>\n",
       "      <td>1403.10</td>\n",
       "      <td>1404.90</td>\n",
       "      <td>321496</td>\n",
       "    </tr>\n",
       "    <tr>\n",
       "      <th>2024-06-05 09:35:00+05:30</th>\n",
       "      <td>1404.90</td>\n",
       "      <td>1408.95</td>\n",
       "      <td>1403.05</td>\n",
       "      <td>1404.80</td>\n",
       "      <td>150415</td>\n",
       "    </tr>\n",
       "  </tbody>\n",
       "</table>\n",
       "</div>"
      ],
      "text/plain": [
       "                              open     high      low    close   volume\n",
       "date                                                                  \n",
       "2024-06-05 09:15:00+05:30  1400.15  1418.10  1400.15  1409.45   433610\n",
       "2024-06-05 09:20:00+05:30  1409.00  1412.65  1404.00  1404.90   290268\n",
       "2024-06-05 09:25:00+05:30  1404.95  1406.00  1401.95  1405.00  1064215\n",
       "2024-06-05 09:30:00+05:30  1405.00  1410.05  1403.10  1404.90   321496\n",
       "2024-06-05 09:35:00+05:30  1404.90  1408.95  1403.05  1404.80   150415"
      ]
     },
     "execution_count": 6,
     "metadata": {},
     "output_type": "execute_result"
    }
   ],
   "source": [
    "def instrumentLookup(instrument_df,symbol):\n",
    "    \"\"\"Looks up instrument token for a given script from instrument dump\"\"\"\n",
    "    try:\n",
    "        return instrument_df[instrument_df.tradingsymbol==symbol].instrument_token.values[0]\n",
    "    except:\n",
    "        return -1\n",
    "    \n",
    "def fetchOHLC(ticker,interval,duration):\n",
    "    \"\"\"extracts historical data and outputs in the form of dataframe\"\"\"\n",
    "    instrument = instrumentLookup(instrument_df,ticker)\n",
    "    data = pd.DataFrame(kite.historical_data(instrument,dt.date.today()-dt.timedelta(duration), dt.date.today(),interval))\n",
    "    data.set_index(\"date\",inplace=True)\n",
    "    return data\n",
    "infy_df = fetchOHLC('INFY','5minute',5)\n",
    "infy_df.to_csv('infy.csv')\n",
    "infy_df.head()"
   ]
  },
  {
   "cell_type": "code",
   "execution_count": 7,
   "metadata": {},
   "outputs": [],
   "source": [
    "def hammer(df):    \n",
    "    \"\"\"returns dataframe with hammer candle column\"\"\"\n",
    "    df = df.copy()\n",
    "    df[\"hammer\"] = (((df[\"high\"] - df[\"low\"])>3*(df[\"open\"] - df[\"close\"])) & \\\n",
    "                   ((df[\"close\"] - df[\"low\"])/(.001 + df[\"high\"] - df[\"low\"]) > 0.6) & \\\n",
    "                   ((df[\"open\"] - df[\"low\"])/(.001 + df[\"high\"] - df[\"low\"]) > 0.6)) & \\\n",
    "                   (abs(df[\"close\"] - df[\"open\"]) > 0.1* (df[\"high\"] - df[\"low\"]))\n",
    "    return df"
   ]
  },
  {
   "cell_type": "code",
   "execution_count": 8,
   "metadata": {},
   "outputs": [
    {
     "name": "stdout",
     "output_type": "stream",
     "text": [
      "hammer\n",
      "False    252\n",
      "True      10\n",
      "Name: count, dtype: int64\n"
     ]
    }
   ],
   "source": [
    "hammer_df = hammer(infy_df)\n",
    "print(hammer_df['hammer'].value_counts())"
   ]
  },
  {
   "cell_type": "code",
   "execution_count": 9,
   "metadata": {},
   "outputs": [],
   "source": [
    "def shooting_star(df):    \n",
    "    \"\"\"returns dataframe with shooting star candle column\"\"\"\n",
    "    df = df.copy()\n",
    "    df[\"shooting_star\"] = (((df[\"high\"] - df[\"low\"])>3*(df[\"open\"] - df[\"close\"])) & \\\n",
    "                   ((df[\"high\"] - df[\"close\"])/(.001 + df[\"high\"] - df[\"low\"]) > 0.6) & \\\n",
    "                   ((df[\"high\"] - df[\"open\"])/(.001 + df[\"high\"] - df[\"low\"]) > 0.6)) & \\\n",
    "                   (abs(df[\"close\"] - df[\"open\"]) > 0.1* (df[\"high\"] - df[\"low\"]))\n",
    "    return df"
   ]
  },
  {
   "cell_type": "code",
   "execution_count": 11,
   "metadata": {},
   "outputs": [
    {
     "name": "stdout",
     "output_type": "stream",
     "text": [
      "shooting_star\n",
      "False    247\n",
      "True      15\n",
      "Name: count, dtype: int64\n"
     ]
    }
   ],
   "source": [
    "shooting_star_df = shooting_star(hammer_df)\n",
    "print(shooting_star_df['shooting_star'].value_counts())"
   ]
  },
  {
   "cell_type": "code",
   "execution_count": 13,
   "metadata": {},
   "outputs": [],
   "source": [
    "def maru_bozu(ohlc_df):    \n",
    "    \"\"\"returns dataframe with maru bozu candle column\"\"\"\n",
    "    df = ohlc_df.copy()\n",
    "    avg_candle_size = abs(df[\"close\"] - df[\"open\"]).median()\n",
    "    df[\"h-c\"] = df[\"high\"]-df[\"close\"]\n",
    "    df[\"l-o\"] = df[\"low\"]-df[\"open\"]\n",
    "    df[\"h-o\"] = df[\"high\"]-df[\"open\"]\n",
    "    df[\"l-c\"] = df[\"low\"]-df[\"close\"]\n",
    "    df[\"maru_bozu\"] = np.where((df[\"close\"] - df[\"open\"] > 2*avg_candle_size) & \\\n",
    "                               (df[[\"h-c\",\"l-o\"]].max(axis=1) < 0.005*avg_candle_size),\"maru_bozu_green\",\n",
    "                               np.where((df[\"open\"] - df[\"close\"] > 2*avg_candle_size) & \\\n",
    "                               (abs(df[[\"h-o\",\"l-c\"]]).max(axis=1) < 0.005*avg_candle_size),\"maru_bozu_red\",False))\n",
    "    df.drop([\"h-c\",\"l-o\",\"h-o\",\"l-c\"],axis=1,inplace=True)\n",
    "    return df"
   ]
  },
  {
   "cell_type": "code",
   "execution_count": 14,
   "metadata": {},
   "outputs": [
    {
     "name": "stdout",
     "output_type": "stream",
     "text": [
      "open     high     low      close    volume  hammer  shooting_star  maru_bozu\n",
      "1400.15  1418.10  1400.15  1409.45  433610  False   False          False        1\n",
      "1502.60  1504.45  1502.60  1503.85  52870   False   False          False        1\n",
      "1502.70  1503.00  1501.00  1501.05  75346   False   False          False        1\n",
      "         1503.30  1499.30  1499.95  187646  False   False          False        1\n",
      "1502.80  1504.20  1501.45  1502.75  112400  False   False          False        1\n",
      "                                                                               ..\n",
      "1449.25  1449.50  1444.00  1445.00  83798   False   False          False        1\n",
      "1449.50  1450.45  1448.35  1450.00  203297  False   False          False        1\n",
      "1449.80  1450.85  1449.00  1450.40  79588   False   False          False        1\n",
      "1450.05  1450.05  1447.50  1447.80  128091  False   False          False        1\n",
      "1538.25  1538.70  1535.50  1536.00  266295  False   False          False        1\n",
      "Name: count, Length: 262, dtype: int64\n"
     ]
    }
   ],
   "source": [
    "maru_bozu_df = maru_bozu(shooting_star_df)"
   ]
  },
  {
   "cell_type": "code",
   "execution_count": 15,
   "metadata": {},
   "outputs": [
    {
     "name": "stdout",
     "output_type": "stream",
     "text": [
      "maru_bozu\n",
      "False              259\n",
      "maru_bozu_green      3\n",
      "Name: count, dtype: int64\n"
     ]
    }
   ],
   "source": [
    "print(maru_bozu_df['maru_bozu'].value_counts())"
   ]
  },
  {
   "cell_type": "code",
   "execution_count": 18,
   "metadata": {},
   "outputs": [],
   "source": [
    "def slope(ohlc_df,n):\n",
    "    \"function to calculate the slope of regression line for n consecutive points on a plot\"\n",
    "    df = ohlc_df.iloc[-1*n:,:]\n",
    "    y = ((df[\"open\"] + df[\"close\"])/2).values\n",
    "    x = np.array(range(n))\n",
    "    y_scaled = (y - y.min())/(y.max() - y.min())\n",
    "    x_scaled = (x - x.min())/(x.max() - x.min())\n",
    "    x_scaled = sm.add_constant(x_scaled)\n",
    "    model = sm.OLS(y_scaled,x_scaled)\n",
    "    results = model.fit()\n",
    "    slope = np.rad2deg(np.arctan(results.params[-1]))\n",
    "    return slope\n",
    "\n",
    "def trend(ohlc_df,n):\n",
    "    \"function to assess the trend by analyzing each candle\"\n",
    "    df = ohlc_df.copy()\n",
    "    df[\"up\"] = np.where(df[\"low\"]>=df[\"low\"].shift(1),1,0)\n",
    "    df[\"dn\"] = np.where(df[\"high\"]<=df[\"high\"].shift(1),1,0)\n",
    "    if df[\"close\"][-1] > df[\"open\"][-1]:\n",
    "        if df[\"up\"][-1*n:].sum() >= 0.7*n:\n",
    "            return \"uptrend\"\n",
    "    elif df[\"open\"][-1] > df[\"close\"][-1]:\n",
    "        if df[\"dn\"][-1*n:].sum() >= 0.7*n:\n",
    "            return \"downtrend\"\n",
    "    else:\n",
    "        return None"
   ]
  },
  {
   "cell_type": "code",
   "execution_count": 19,
   "metadata": {},
   "outputs": [
    {
     "name": "stderr",
     "output_type": "stream",
     "text": [
      "C:\\Users\\rsurs\\AppData\\Local\\Temp\\ipykernel_27148\\2097876151.py:19: FutureWarning: Series.__getitem__ treating keys as positions is deprecated. In a future version, integer keys will always be treated as labels (consistent with DataFrame behavior). To access a value by position, use `ser.iloc[pos]`\n",
      "  if df[\"close\"][-1] > df[\"open\"][-1]:\n",
      "C:\\Users\\rsurs\\AppData\\Local\\Temp\\ipykernel_27148\\2097876151.py:22: FutureWarning: Series.__getitem__ treating keys as positions is deprecated. In a future version, integer keys will always be treated as labels (consistent with DataFrame behavior). To access a value by position, use `ser.iloc[pos]`\n",
      "  elif df[\"open\"][-1] > df[\"close\"][-1]:\n"
     ]
    }
   ],
   "source": [
    "slope = slope(maru_bozu_df,7)\n",
    "trend = trend(maru_bozu_df,7)"
   ]
  },
  {
   "cell_type": "code",
   "execution_count": 20,
   "metadata": {},
   "outputs": [
    {
     "data": {
      "text/plain": [
       "-42.5175740835324"
      ]
     },
     "execution_count": 20,
     "metadata": {},
     "output_type": "execute_result"
    }
   ],
   "source": [
    "slope"
   ]
  },
  {
   "cell_type": "code",
   "execution_count": 21,
   "metadata": {},
   "outputs": [
    {
     "data": {
      "text/plain": [
       "'downtrend'"
      ]
     },
     "execution_count": 21,
     "metadata": {},
     "output_type": "execute_result"
    }
   ],
   "source": [
    "trend"
   ]
  }
 ],
 "metadata": {
  "kernelspec": {
   "display_name": "algo",
   "language": "python",
   "name": "python3"
  },
  "language_info": {
   "codemirror_mode": {
    "name": "ipython",
    "version": 3
   },
   "file_extension": ".py",
   "mimetype": "text/x-python",
   "name": "python",
   "nbconvert_exporter": "python",
   "pygments_lexer": "ipython3",
   "version": "3.11.7"
  }
 },
 "nbformat": 4,
 "nbformat_minor": 2
}
